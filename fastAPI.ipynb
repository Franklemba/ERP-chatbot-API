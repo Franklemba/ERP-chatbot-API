{
 "cells": [
  {
   "cell_type": "markdown",
   "metadata": {},
   "source": [
    "## Import Dependencies"
   ]
  },
  {
   "cell_type": "code",
   "execution_count": 1,
   "metadata": {},
   "outputs": [
    {
     "name": "stdout",
     "output_type": "stream",
     "text": [
      "Requirement already satisfied: fastapi in c:\\users\\dell 5480\\desktop\\erpnext chatbot\\venv\\lib\\site-packages (from -r requirements.txt (line 1)) (0.115.12)\n",
      "Requirement already satisfied: uvicorn in c:\\users\\dell 5480\\desktop\\erpnext chatbot\\venv\\lib\\site-packages (from -r requirements.txt (line 2)) (0.34.2)\n",
      "Requirement already satisfied: python-dotenv in c:\\users\\dell 5480\\desktop\\erpnext chatbot\\venv\\lib\\site-packages (from -r requirements.txt (line 3)) (1.1.0)\n",
      "Requirement already satisfied: pydantic in c:\\users\\dell 5480\\desktop\\erpnext chatbot\\venv\\lib\\site-packages (from -r requirements.txt (line 4)) (2.11.4)\n",
      "Requirement already satisfied: langchain in c:\\users\\dell 5480\\desktop\\erpnext chatbot\\venv\\lib\\site-packages (from -r requirements.txt (line 5)) (0.3.24)\n",
      "Requirement already satisfied: langchain-google-genai in c:\\users\\dell 5480\\desktop\\erpnext chatbot\\venv\\lib\\site-packages (from -r requirements.txt (line 6)) (2.0.10)\n",
      "Requirement already satisfied: langchain-huggingface in c:\\users\\dell 5480\\desktop\\erpnext chatbot\\venv\\lib\\site-packages (from -r requirements.txt (line 7)) (0.1.2)\n",
      "Requirement already satisfied: langchain-community in c:\\users\\dell 5480\\desktop\\erpnext chatbot\\venv\\lib\\site-packages (from -r requirements.txt (line 8)) (0.3.23)\n",
      "Requirement already satisfied: google-generativeai in c:\\users\\dell 5480\\desktop\\erpnext chatbot\\venv\\lib\\site-packages (from -r requirements.txt (line 9)) (0.8.5)\n",
      "Requirement already satisfied: faiss-cpu in c:\\users\\dell 5480\\desktop\\erpnext chatbot\\venv\\lib\\site-packages (from -r requirements.txt (line 10)) (1.11.0)\n",
      "Requirement already satisfied: sentence-transformers in c:\\users\\dell 5480\\desktop\\erpnext chatbot\\venv\\lib\\site-packages (from -r requirements.txt (line 11)) (4.1.0)\n",
      "Requirement already satisfied: starlette<0.47.0,>=0.40.0 in c:\\users\\dell 5480\\desktop\\erpnext chatbot\\venv\\lib\\site-packages (from fastapi->-r requirements.txt (line 1)) (0.46.2)\n",
      "Requirement already satisfied: typing-extensions>=4.8.0 in c:\\users\\dell 5480\\desktop\\erpnext chatbot\\venv\\lib\\site-packages (from fastapi->-r requirements.txt (line 1)) (4.13.2)\n",
      "Requirement already satisfied: annotated-types>=0.6.0 in c:\\users\\dell 5480\\desktop\\erpnext chatbot\\venv\\lib\\site-packages (from pydantic->-r requirements.txt (line 4)) (0.7.0)\n",
      "Requirement already satisfied: pydantic-core==2.33.2 in c:\\users\\dell 5480\\desktop\\erpnext chatbot\\venv\\lib\\site-packages (from pydantic->-r requirements.txt (line 4)) (2.33.2)\n",
      "Requirement already satisfied: typing-inspection>=0.4.0 in c:\\users\\dell 5480\\desktop\\erpnext chatbot\\venv\\lib\\site-packages (from pydantic->-r requirements.txt (line 4)) (0.4.0)\n",
      "Requirement already satisfied: anyio<5,>=3.6.2 in c:\\users\\dell 5480\\desktop\\erpnext chatbot\\venv\\lib\\site-packages (from starlette<0.47.0,>=0.40.0->fastapi->-r requirements.txt (line 1)) (4.9.0)\n",
      "Requirement already satisfied: idna>=2.8 in c:\\users\\dell 5480\\desktop\\erpnext chatbot\\venv\\lib\\site-packages (from anyio<5,>=3.6.2->starlette<0.47.0,>=0.40.0->fastapi->-r requirements.txt (line 1)) (3.10)\n",
      "Requirement already satisfied: sniffio>=1.1 in c:\\users\\dell 5480\\desktop\\erpnext chatbot\\venv\\lib\\site-packages (from anyio<5,>=3.6.2->starlette<0.47.0,>=0.40.0->fastapi->-r requirements.txt (line 1)) (1.3.1)\n",
      "Requirement already satisfied: click>=7.0 in c:\\users\\dell 5480\\desktop\\erpnext chatbot\\venv\\lib\\site-packages (from uvicorn->-r requirements.txt (line 2)) (8.1.8)\n",
      "Requirement already satisfied: h11>=0.8 in c:\\users\\dell 5480\\desktop\\erpnext chatbot\\venv\\lib\\site-packages (from uvicorn->-r requirements.txt (line 2)) (0.16.0)\n",
      "Requirement already satisfied: langchain-core<1.0.0,>=0.3.55 in c:\\users\\dell 5480\\desktop\\erpnext chatbot\\venv\\lib\\site-packages (from langchain->-r requirements.txt (line 5)) (0.3.56)\n",
      "Requirement already satisfied: langchain-text-splitters<1.0.0,>=0.3.8 in c:\\users\\dell 5480\\desktop\\erpnext chatbot\\venv\\lib\\site-packages (from langchain->-r requirements.txt (line 5)) (0.3.8)\n",
      "Requirement already satisfied: langsmith<0.4,>=0.1.17 in c:\\users\\dell 5480\\desktop\\erpnext chatbot\\venv\\lib\\site-packages (from langchain->-r requirements.txt (line 5)) (0.3.38)\n",
      "Requirement already satisfied: SQLAlchemy<3,>=1.4 in c:\\users\\dell 5480\\desktop\\erpnext chatbot\\venv\\lib\\site-packages (from langchain->-r requirements.txt (line 5)) (2.0.40)\n",
      "Requirement already satisfied: requests<3,>=2 in c:\\users\\dell 5480\\desktop\\erpnext chatbot\\venv\\lib\\site-packages (from langchain->-r requirements.txt (line 5)) (2.32.3)\n",
      "Requirement already satisfied: PyYAML>=5.3 in c:\\users\\dell 5480\\desktop\\erpnext chatbot\\venv\\lib\\site-packages (from langchain->-r requirements.txt (line 5)) (6.0.2)\n",
      "Requirement already satisfied: tenacity!=8.4.0,<10.0.0,>=8.1.0 in c:\\users\\dell 5480\\desktop\\erpnext chatbot\\venv\\lib\\site-packages (from langchain-core<1.0.0,>=0.3.55->langchain->-r requirements.txt (line 5)) (9.1.2)\n",
      "Requirement already satisfied: jsonpatch<2.0,>=1.33 in c:\\users\\dell 5480\\desktop\\erpnext chatbot\\venv\\lib\\site-packages (from langchain-core<1.0.0,>=0.3.55->langchain->-r requirements.txt (line 5)) (1.33)\n",
      "Requirement already satisfied: packaging<25,>=23.2 in c:\\users\\dell 5480\\desktop\\erpnext chatbot\\venv\\lib\\site-packages (from langchain-core<1.0.0,>=0.3.55->langchain->-r requirements.txt (line 5)) (24.2)\n",
      "Requirement already satisfied: jsonpointer>=1.9 in c:\\users\\dell 5480\\desktop\\erpnext chatbot\\venv\\lib\\site-packages (from jsonpatch<2.0,>=1.33->langchain-core<1.0.0,>=0.3.55->langchain->-r requirements.txt (line 5)) (3.0.0)\n",
      "Requirement already satisfied: httpx<1,>=0.23.0 in c:\\users\\dell 5480\\desktop\\erpnext chatbot\\venv\\lib\\site-packages (from langsmith<0.4,>=0.1.17->langchain->-r requirements.txt (line 5)) (0.28.1)\n",
      "Requirement already satisfied: orjson<4.0.0,>=3.9.14 in c:\\users\\dell 5480\\desktop\\erpnext chatbot\\venv\\lib\\site-packages (from langsmith<0.4,>=0.1.17->langchain->-r requirements.txt (line 5)) (3.10.18)\n",
      "Requirement already satisfied: requests-toolbelt<2.0.0,>=1.0.0 in c:\\users\\dell 5480\\desktop\\erpnext chatbot\\venv\\lib\\site-packages (from langsmith<0.4,>=0.1.17->langchain->-r requirements.txt (line 5)) (1.0.0)\n",
      "Requirement already satisfied: zstandard<0.24.0,>=0.23.0 in c:\\users\\dell 5480\\desktop\\erpnext chatbot\\venv\\lib\\site-packages (from langsmith<0.4,>=0.1.17->langchain->-r requirements.txt (line 5)) (0.23.0)\n",
      "Requirement already satisfied: certifi in c:\\users\\dell 5480\\desktop\\erpnext chatbot\\venv\\lib\\site-packages (from httpx<1,>=0.23.0->langsmith<0.4,>=0.1.17->langchain->-r requirements.txt (line 5)) (2025.4.26)\n",
      "Requirement already satisfied: httpcore==1.* in c:\\users\\dell 5480\\desktop\\erpnext chatbot\\venv\\lib\\site-packages (from httpx<1,>=0.23.0->langsmith<0.4,>=0.1.17->langchain->-r requirements.txt (line 5)) (1.0.9)\n",
      "Requirement already satisfied: charset-normalizer<4,>=2 in c:\\users\\dell 5480\\desktop\\erpnext chatbot\\venv\\lib\\site-packages (from requests<3,>=2->langchain->-r requirements.txt (line 5)) (3.4.1)\n",
      "Requirement already satisfied: urllib3<3,>=1.21.1 in c:\\users\\dell 5480\\desktop\\erpnext chatbot\\venv\\lib\\site-packages (from requests<3,>=2->langchain->-r requirements.txt (line 5)) (2.4.0)\n",
      "Requirement already satisfied: greenlet>=1 in c:\\users\\dell 5480\\desktop\\erpnext chatbot\\venv\\lib\\site-packages (from SQLAlchemy<3,>=1.4->langchain->-r requirements.txt (line 5)) (3.2.1)\n",
      "Requirement already satisfied: filetype<2.0.0,>=1.2.0 in c:\\users\\dell 5480\\desktop\\erpnext chatbot\\venv\\lib\\site-packages (from langchain-google-genai->-r requirements.txt (line 6)) (1.2.0)\n",
      "Requirement already satisfied: google-ai-generativelanguage==0.6.15 in c:\\users\\dell 5480\\desktop\\erpnext chatbot\\venv\\lib\\site-packages (from google-generativeai->-r requirements.txt (line 9)) (0.6.15)\n",
      "Requirement already satisfied: google-api-core in c:\\users\\dell 5480\\desktop\\erpnext chatbot\\venv\\lib\\site-packages (from google-generativeai->-r requirements.txt (line 9)) (2.25.0rc0)\n",
      "Requirement already satisfied: google-api-python-client in c:\\users\\dell 5480\\desktop\\erpnext chatbot\\venv\\lib\\site-packages (from google-generativeai->-r requirements.txt (line 9)) (2.169.0)\n",
      "Requirement already satisfied: google-auth>=2.15.0 in c:\\users\\dell 5480\\desktop\\erpnext chatbot\\venv\\lib\\site-packages (from google-generativeai->-r requirements.txt (line 9)) (2.39.0)\n",
      "Requirement already satisfied: protobuf in c:\\users\\dell 5480\\desktop\\erpnext chatbot\\venv\\lib\\site-packages (from google-generativeai->-r requirements.txt (line 9)) (5.29.4)\n",
      "Requirement already satisfied: tqdm in c:\\users\\dell 5480\\desktop\\erpnext chatbot\\venv\\lib\\site-packages (from google-generativeai->-r requirements.txt (line 9)) (4.67.1)\n",
      "Requirement already satisfied: proto-plus<2.0.0dev,>=1.22.3 in c:\\users\\dell 5480\\desktop\\erpnext chatbot\\venv\\lib\\site-packages (from google-ai-generativelanguage==0.6.15->google-generativeai->-r requirements.txt (line 9)) (1.26.1)\n",
      "Requirement already satisfied: googleapis-common-protos<2.0.0,>=1.56.2 in c:\\users\\dell 5480\\desktop\\erpnext chatbot\\venv\\lib\\site-packages (from google-api-core->google-generativeai->-r requirements.txt (line 9)) (1.70.0)\n",
      "Requirement already satisfied: grpcio<2.0.0,>=1.33.2 in c:\\users\\dell 5480\\desktop\\erpnext chatbot\\venv\\lib\\site-packages (from google-api-core[grpc]!=2.0.*,!=2.1.*,!=2.10.*,!=2.2.*,!=2.3.*,!=2.4.*,!=2.5.*,!=2.6.*,!=2.7.*,!=2.8.*,!=2.9.*,<3.0.0dev,>=1.34.1->google-ai-generativelanguage==0.6.15->google-generativeai->-r requirements.txt (line 9)) (1.71.0)\n",
      "Requirement already satisfied: grpcio-status<2.0.0,>=1.33.2 in c:\\users\\dell 5480\\desktop\\erpnext chatbot\\venv\\lib\\site-packages (from google-api-core[grpc]!=2.0.*,!=2.1.*,!=2.10.*,!=2.2.*,!=2.3.*,!=2.4.*,!=2.5.*,!=2.6.*,!=2.7.*,!=2.8.*,!=2.9.*,<3.0.0dev,>=1.34.1->google-ai-generativelanguage==0.6.15->google-generativeai->-r requirements.txt (line 9)) (1.71.0)\n",
      "Requirement already satisfied: cachetools<6.0,>=2.0.0 in c:\\users\\dell 5480\\desktop\\erpnext chatbot\\venv\\lib\\site-packages (from google-auth>=2.15.0->google-generativeai->-r requirements.txt (line 9)) (5.5.2)\n",
      "Requirement already satisfied: pyasn1-modules>=0.2.1 in c:\\users\\dell 5480\\desktop\\erpnext chatbot\\venv\\lib\\site-packages (from google-auth>=2.15.0->google-generativeai->-r requirements.txt (line 9)) (0.4.2)\n",
      "Requirement already satisfied: rsa<5,>=3.1.4 in c:\\users\\dell 5480\\desktop\\erpnext chatbot\\venv\\lib\\site-packages (from google-auth>=2.15.0->google-generativeai->-r requirements.txt (line 9)) (4.9.1)\n",
      "Requirement already satisfied: pyasn1>=0.1.3 in c:\\users\\dell 5480\\desktop\\erpnext chatbot\\venv\\lib\\site-packages (from rsa<5,>=3.1.4->google-auth>=2.15.0->google-generativeai->-r requirements.txt (line 9)) (0.6.1)\n",
      "Requirement already satisfied: huggingface-hub>=0.23.0 in c:\\users\\dell 5480\\desktop\\erpnext chatbot\\venv\\lib\\site-packages (from langchain-huggingface->-r requirements.txt (line 7)) (0.30.2)\n",
      "Requirement already satisfied: tokenizers>=0.19.1 in c:\\users\\dell 5480\\desktop\\erpnext chatbot\\venv\\lib\\site-packages (from langchain-huggingface->-r requirements.txt (line 7)) (0.21.1)\n",
      "Requirement already satisfied: transformers>=4.39.0 in c:\\users\\dell 5480\\desktop\\erpnext chatbot\\venv\\lib\\site-packages (from langchain-huggingface->-r requirements.txt (line 7)) (4.51.3)\n",
      "Requirement already satisfied: aiohttp<4.0.0,>=3.8.3 in c:\\users\\dell 5480\\desktop\\erpnext chatbot\\venv\\lib\\site-packages (from langchain-community->-r requirements.txt (line 8)) (3.11.18)\n",
      "Requirement already satisfied: dataclasses-json<0.7,>=0.5.7 in c:\\users\\dell 5480\\desktop\\erpnext chatbot\\venv\\lib\\site-packages (from langchain-community->-r requirements.txt (line 8)) (0.6.7)\n",
      "Requirement already satisfied: pydantic-settings<3.0.0,>=2.4.0 in c:\\users\\dell 5480\\desktop\\erpnext chatbot\\venv\\lib\\site-packages (from langchain-community->-r requirements.txt (line 8)) (2.9.1)\n",
      "Requirement already satisfied: httpx-sse<1.0.0,>=0.4.0 in c:\\users\\dell 5480\\desktop\\erpnext chatbot\\venv\\lib\\site-packages (from langchain-community->-r requirements.txt (line 8)) (0.4.0)\n",
      "Requirement already satisfied: numpy>=2.1.0 in c:\\users\\dell 5480\\desktop\\erpnext chatbot\\venv\\lib\\site-packages (from langchain-community->-r requirements.txt (line 8)) (2.2.5)\n",
      "Requirement already satisfied: aiohappyeyeballs>=2.3.0 in c:\\users\\dell 5480\\desktop\\erpnext chatbot\\venv\\lib\\site-packages (from aiohttp<4.0.0,>=3.8.3->langchain-community->-r requirements.txt (line 8)) (2.6.1)\n",
      "Requirement already satisfied: aiosignal>=1.1.2 in c:\\users\\dell 5480\\desktop\\erpnext chatbot\\venv\\lib\\site-packages (from aiohttp<4.0.0,>=3.8.3->langchain-community->-r requirements.txt (line 8)) (1.3.2)\n",
      "Requirement already satisfied: attrs>=17.3.0 in c:\\users\\dell 5480\\desktop\\erpnext chatbot\\venv\\lib\\site-packages (from aiohttp<4.0.0,>=3.8.3->langchain-community->-r requirements.txt (line 8)) (25.3.0)\n",
      "Requirement already satisfied: frozenlist>=1.1.1 in c:\\users\\dell 5480\\desktop\\erpnext chatbot\\venv\\lib\\site-packages (from aiohttp<4.0.0,>=3.8.3->langchain-community->-r requirements.txt (line 8)) (1.6.0)\n",
      "Requirement already satisfied: multidict<7.0,>=4.5 in c:\\users\\dell 5480\\desktop\\erpnext chatbot\\venv\\lib\\site-packages (from aiohttp<4.0.0,>=3.8.3->langchain-community->-r requirements.txt (line 8)) (6.4.3)\n",
      "Requirement already satisfied: propcache>=0.2.0 in c:\\users\\dell 5480\\desktop\\erpnext chatbot\\venv\\lib\\site-packages (from aiohttp<4.0.0,>=3.8.3->langchain-community->-r requirements.txt (line 8)) (0.3.1)\n",
      "Requirement already satisfied: yarl<2.0,>=1.17.0 in c:\\users\\dell 5480\\desktop\\erpnext chatbot\\venv\\lib\\site-packages (from aiohttp<4.0.0,>=3.8.3->langchain-community->-r requirements.txt (line 8)) (1.20.0)\n",
      "Requirement already satisfied: marshmallow<4.0.0,>=3.18.0 in c:\\users\\dell 5480\\desktop\\erpnext chatbot\\venv\\lib\\site-packages (from dataclasses-json<0.7,>=0.5.7->langchain-community->-r requirements.txt (line 8)) (3.26.1)\n",
      "Requirement already satisfied: typing-inspect<1,>=0.4.0 in c:\\users\\dell 5480\\desktop\\erpnext chatbot\\venv\\lib\\site-packages (from dataclasses-json<0.7,>=0.5.7->langchain-community->-r requirements.txt (line 8)) (0.9.0)\n",
      "Requirement already satisfied: mypy-extensions>=0.3.0 in c:\\users\\dell 5480\\desktop\\erpnext chatbot\\venv\\lib\\site-packages (from typing-inspect<1,>=0.4.0->dataclasses-json<0.7,>=0.5.7->langchain-community->-r requirements.txt (line 8)) (1.1.0)\n",
      "Requirement already satisfied: torch>=1.11.0 in c:\\users\\dell 5480\\desktop\\erpnext chatbot\\venv\\lib\\site-packages (from sentence-transformers->-r requirements.txt (line 11)) (2.7.0)\n",
      "Requirement already satisfied: scikit-learn in c:\\users\\dell 5480\\desktop\\erpnext chatbot\\venv\\lib\\site-packages (from sentence-transformers->-r requirements.txt (line 11)) (1.6.1)\n",
      "Requirement already satisfied: scipy in c:\\users\\dell 5480\\desktop\\erpnext chatbot\\venv\\lib\\site-packages (from sentence-transformers->-r requirements.txt (line 11)) (1.15.2)\n",
      "Requirement already satisfied: Pillow in c:\\users\\dell 5480\\desktop\\erpnext chatbot\\venv\\lib\\site-packages (from sentence-transformers->-r requirements.txt (line 11)) (11.2.1)\n",
      "Requirement already satisfied: filelock in c:\\users\\dell 5480\\desktop\\erpnext chatbot\\venv\\lib\\site-packages (from transformers>=4.39.0->langchain-huggingface->-r requirements.txt (line 7)) (3.18.0)\n",
      "Requirement already satisfied: regex!=2019.12.17 in c:\\users\\dell 5480\\desktop\\erpnext chatbot\\venv\\lib\\site-packages (from transformers>=4.39.0->langchain-huggingface->-r requirements.txt (line 7)) (2024.11.6)\n",
      "Requirement already satisfied: safetensors>=0.4.3 in c:\\users\\dell 5480\\desktop\\erpnext chatbot\\venv\\lib\\site-packages (from transformers>=4.39.0->langchain-huggingface->-r requirements.txt (line 7)) (0.5.3)\n",
      "Requirement already satisfied: fsspec>=2023.5.0 in c:\\users\\dell 5480\\desktop\\erpnext chatbot\\venv\\lib\\site-packages (from huggingface-hub>=0.23.0->langchain-huggingface->-r requirements.txt (line 7)) (2025.3.2)\n",
      "Requirement already satisfied: colorama in c:\\users\\dell 5480\\desktop\\erpnext chatbot\\venv\\lib\\site-packages (from click>=7.0->uvicorn->-r requirements.txt (line 2)) (0.4.6)\n",
      "Requirement already satisfied: sympy>=1.13.3 in c:\\users\\dell 5480\\desktop\\erpnext chatbot\\venv\\lib\\site-packages (from torch>=1.11.0->sentence-transformers->-r requirements.txt (line 11)) (1.14.0)\n",
      "Requirement already satisfied: networkx in c:\\users\\dell 5480\\desktop\\erpnext chatbot\\venv\\lib\\site-packages (from torch>=1.11.0->sentence-transformers->-r requirements.txt (line 11)) (3.4.2)\n",
      "Requirement already satisfied: jinja2 in c:\\users\\dell 5480\\desktop\\erpnext chatbot\\venv\\lib\\site-packages (from torch>=1.11.0->sentence-transformers->-r requirements.txt (line 11)) (3.1.6)\n",
      "Requirement already satisfied: setuptools in c:\\users\\dell 5480\\desktop\\erpnext chatbot\\venv\\lib\\site-packages (from torch>=1.11.0->sentence-transformers->-r requirements.txt (line 11)) (80.0.1)\n",
      "Requirement already satisfied: mpmath<1.4,>=1.1.0 in c:\\users\\dell 5480\\desktop\\erpnext chatbot\\venv\\lib\\site-packages (from sympy>=1.13.3->torch>=1.11.0->sentence-transformers->-r requirements.txt (line 11)) (1.3.0)\n",
      "Requirement already satisfied: httplib2<1.0.0,>=0.19.0 in c:\\users\\dell 5480\\desktop\\erpnext chatbot\\venv\\lib\\site-packages (from google-api-python-client->google-generativeai->-r requirements.txt (line 9)) (0.22.0)\n",
      "Requirement already satisfied: google-auth-httplib2<1.0.0,>=0.2.0 in c:\\users\\dell 5480\\desktop\\erpnext chatbot\\venv\\lib\\site-packages (from google-api-python-client->google-generativeai->-r requirements.txt (line 9)) (0.2.0)\n",
      "Requirement already satisfied: uritemplate<5,>=3.0.1 in c:\\users\\dell 5480\\desktop\\erpnext chatbot\\venv\\lib\\site-packages (from google-api-python-client->google-generativeai->-r requirements.txt (line 9)) (4.1.1)\n",
      "Requirement already satisfied: pyparsing!=3.0.0,!=3.0.1,!=3.0.2,!=3.0.3,<4,>=2.4.2 in c:\\users\\dell 5480\\desktop\\erpnext chatbot\\venv\\lib\\site-packages (from httplib2<1.0.0,>=0.19.0->google-api-python-client->google-generativeai->-r requirements.txt (line 9)) (3.2.3)\n",
      "Requirement already satisfied: MarkupSafe>=2.0 in c:\\users\\dell 5480\\desktop\\erpnext chatbot\\venv\\lib\\site-packages (from jinja2->torch>=1.11.0->sentence-transformers->-r requirements.txt (line 11)) (3.0.2)\n",
      "Requirement already satisfied: joblib>=1.2.0 in c:\\users\\dell 5480\\desktop\\erpnext chatbot\\venv\\lib\\site-packages (from scikit-learn->sentence-transformers->-r requirements.txt (line 11)) (1.4.2)\n",
      "Requirement already satisfied: threadpoolctl>=3.1.0 in c:\\users\\dell 5480\\desktop\\erpnext chatbot\\venv\\lib\\site-packages (from scikit-learn->sentence-transformers->-r requirements.txt (line 11)) (3.6.0)\n",
      "Note: you may need to restart the kernel to use updated packages.\n"
     ]
    }
   ],
   "source": [
    "pip install -r requirements.txt"
   ]
  },
  {
   "cell_type": "code",
   "execution_count": 2,
   "metadata": {},
   "outputs": [],
   "source": [
    "import os\n",
    "from dotenv import load_dotenv\n",
    "from typing import List, Dict, Any\n",
    "import time\n",
    "from fastapi import FastAPI, HTTPException, Request, Depends\n",
    "from fastapi.middleware.cors import CORSMiddleware\n",
    "from pydantic import BaseModel\n",
    "import uvicorn"
   ]
  },
  {
   "cell_type": "markdown",
   "metadata": {},
   "source": [
    "## Error handling for missing Dependencies"
   ]
  },
  {
   "cell_type": "code",
   "execution_count": 3,
   "metadata": {},
   "outputs": [
    {
     "name": "stderr",
     "output_type": "stream",
     "text": [
      "c:\\Users\\Dell 5480\\Desktop\\ERPNext chatbot\\venv\\Lib\\site-packages\\tqdm\\auto.py:21: TqdmWarning: IProgress not found. Please update jupyter and ipywidgets. See https://ipywidgets.readthedocs.io/en/stable/user_install.html\n",
      "  from .autonotebook import tqdm as notebook_tqdm\n"
     ]
    }
   ],
   "source": [
    "try:\n",
    "    from langchain_community.vectorstores import FAISS\n",
    "    from langchain_huggingface import HuggingFaceEmbeddings\n",
    "    from langchain_community.document_loaders import TextLoader\n",
    "    from langchain.text_splitter import RecursiveCharacterTextSplitter\n",
    "    from langchain.chains import RetrievalQA\n",
    "    import google.generativeai as genai\n",
    "    from langchain_google_genai import ChatGoogleGenerativeAI\n",
    "    from fastapi import FastAPI, HTTPException, Request, Depends\n",
    "    from fastapi.middleware.cors import CORSMiddleware\n",
    "    import uvicorn\n",
    "except ImportError as e:\n",
    "    print(f\"Error: Missing dependency - {e}\")\n",
    "    print(\"Please install required packages with: pip install langchain-google-genai google-generativeai langchain-huggingface faiss-cpu python-dotenv fastapi uvicorn\")\n",
    "    exit(1)"
   ]
  },
  {
   "cell_type": "markdown",
   "metadata": {},
   "source": [
    "## Initialize fast API"
   ]
  },
  {
   "cell_type": "code",
   "execution_count": 4,
   "metadata": {},
   "outputs": [],
   "source": [
    "app = FastAPI(\n",
    "    title=\"ERP Document Chatbot API\",\n",
    "    description=\"API for querying ERP documents using Gemini and vector database\",\n",
    "    version=\"1.0.0\"\n",
    ")"
   ]
  },
  {
   "cell_type": "markdown",
   "metadata": {},
   "source": [
    "## Enable CORS"
   ]
  },
  {
   "cell_type": "code",
   "execution_count": 5,
   "metadata": {},
   "outputs": [],
   "source": [
    "app.add_middleware(\n",
    "    CORSMiddleware,\n",
    "    allow_origins=[\"*\"],  # Allow all origins\n",
    "    allow_credentials=True,\n",
    "    allow_methods=[\"*\"],  # Allow all methods\n",
    "    allow_headers=[\"*\"],  # Allow all headers\n",
    ")"
   ]
  },
  {
   "cell_type": "markdown",
   "metadata": {},
   "source": [
    "## Define Request & Response Model"
   ]
  },
  {
   "cell_type": "code",
   "execution_count": 6,
   "metadata": {},
   "outputs": [],
   "source": [
    "class ChatbotRequest(BaseModel):\n",
    "    query: str\n",
    "\n",
    "# Define response model\n",
    "class ChatbotResponse(BaseModel):\n",
    "    answer: str\n",
    "    sources: List[str] = []\n",
    "    response_time: float\n",
    "\n",
    "# Global variables for persistent components\n",
    "vectordb = None\n",
    "qa_chain = None"
   ]
  },
  {
   "cell_type": "markdown",
   "metadata": {},
   "source": [
    "## Load Documents Function"
   ]
  },
  {
   "cell_type": "code",
   "execution_count": 7,
   "metadata": {},
   "outputs": [],
   "source": [
    "def load_documents(docs_dir: str) -> List:\n",
    "    \"\"\"Load documents from the specified directory\"\"\"\n",
    "    try:\n",
    "        all_docs = []\n",
    "        for root, _, files in os.walk(docs_dir):\n",
    "            for file in files:\n",
    "                if file.endswith(\".txt\"):\n",
    "                    try:\n",
    "                        loader = TextLoader(os.path.join(root, file))\n",
    "                        all_docs.extend(loader.load())\n",
    "                        print(f\"Loaded: {os.path.join(root, file)}\")\n",
    "                    except Exception as e:\n",
    "                        print(f\"Error loading {file}: {str(e)}\")\n",
    "        \n",
    "        if not all_docs:\n",
    "            print(f\"Warning: No documents found in {docs_dir}\")\n",
    "            \n",
    "        return all_docs\n",
    "    except Exception as e:\n",
    "        print(f\"Error loading documents: {str(e)}\")\n",
    "        raise"
   ]
  },
  {
   "cell_type": "markdown",
   "metadata": {},
   "source": [
    "## Setup Vector Database"
   ]
  },
  {
   "cell_type": "code",
   "execution_count": 8,
   "metadata": {},
   "outputs": [],
   "source": [
    "def setup_vectordb(documents: List, save_path: str = \"vectorstore\") -> Any:\n",
    "    \"\"\"Create or load vector database\"\"\"\n",
    "    try:\n",
    "        # Check if we already have a saved vector store\n",
    "        if os.path.exists(save_path):\n",
    "            print(f\"Loading existing vector store from {save_path}\")\n",
    "            embedding_model = HuggingFaceEmbeddings(model_name=\"sentence-transformers/all-MiniLM-L6-v2\")\n",
    "            return FAISS.load_local(save_path, embedding_model)\n",
    "        \n",
    "        # Create new vector store\n",
    "        print(\"Creating new vector store...\")\n",
    "        splitter = RecursiveCharacterTextSplitter(chunk_size=500, chunk_overlap=50)\n",
    "        split_docs = splitter.split_documents(documents)\n",
    "        print(f\"Split into {len(split_docs)} chunks\")\n",
    "        \n",
    "        embedding_model = HuggingFaceEmbeddings(model_name=\"sentence-transformers/all-MiniLM-L6-v2\")\n",
    "        vectordb = FAISS.from_documents(split_docs, embedding_model)\n",
    "        \n",
    "        # Save for future use\n",
    "        print(f\"Saving vector store to {save_path}\")\n",
    "        vectordb.save_local(save_path)\n",
    "        \n",
    "        return vectordb\n",
    "    except Exception as e:\n",
    "        print(f\"Error setting up vector database: {str(e)}\")\n",
    "        raise"
   ]
  },
  {
   "cell_type": "markdown",
   "metadata": {},
   "source": [
    "## Setup Gemini LLM "
   ]
  },
  {
   "cell_type": "code",
   "execution_count": 9,
   "metadata": {},
   "outputs": [],
   "source": [
    "def setup_gemini_llm():\n",
    "    \"\"\"Set up Google's Gemini model\"\"\"\n",
    "    try:\n",
    "        print(\"Setting up Gemini model...\")\n",
    "        \n",
    "        # Get API key from environment variables\n",
    "        google_api_key = os.getenv(\"GOOGLE_API_KEY\")\n",
    "        if not google_api_key:\n",
    "            raise ValueError(\"GOOGLE_API_KEY not found in environment variables\")\n",
    "        \n",
    "        # Configure the Gemini model\n",
    "        genai.configure(api_key=google_api_key)\n",
    "        \n",
    "        # define model\n",
    "        model_name = \"gemini-1.5-pro-latest\"\n",
    "        \n",
    "        # Create LangChain wrapper for Gemini\n",
    "        llm = ChatGoogleGenerativeAI(\n",
    "            model=model_name,\n",
    "            temperature=0.1,\n",
    "        )\n",
    "        \n",
    "        return llm\n",
    "    except Exception as e:\n",
    "        print(f\"Error setting up Gemini model: {str(e)}\")\n",
    "        raise"
   ]
  },
  {
   "cell_type": "markdown",
   "metadata": {},
   "source": [
    "## Define QA Chain"
   ]
  },
  {
   "cell_type": "code",
   "execution_count": 10,
   "metadata": {},
   "outputs": [],
   "source": [
    "def get_qa_chain():\n",
    "    \"\"\"Initialize or return the QA chain\"\"\"\n",
    "    global qa_chain, vectordb\n",
    "    \n",
    "    if qa_chain is not None:\n",
    "        return qa_chain\n",
    "    \n",
    "    # Check if vectordb is already initialized\n",
    "    if vectordb is None:\n",
    "        # Load documents \n",
    "        docs_dir = \"erp_docs\"\n",
    "        if not os.path.exists(docs_dir):\n",
    "            raise FileNotFoundError(f\"Directory {docs_dir} not found\")\n",
    "        \n",
    "        all_docs = load_documents(docs_dir)\n",
    "        vectordb = setup_vectordb(all_docs)\n",
    "    \n",
    "    # Set up Gemini LLM\n",
    "    llm = setup_gemini_llm()\n",
    "    \n",
    "    # Create retriever and QA chain\n",
    "    retriever = vectordb.as_retriever(search_kwargs={\"k\": 3})\n",
    "    qa_chain = RetrievalQA.from_chain_type(\n",
    "        llm=llm, \n",
    "        chain_type=\"stuff\",\n",
    "        retriever=retriever,\n",
    "        return_source_documents=True\n",
    "    )\n",
    "    \n",
    "    return qa_chain"
   ]
  },
  {
   "cell_type": "markdown",
   "metadata": {},
   "source": [
    "## Startup Event"
   ]
  },
  {
   "cell_type": "code",
   "execution_count": 11,
   "metadata": {},
   "outputs": [
    {
     "name": "stderr",
     "output_type": "stream",
     "text": [
      "C:\\Users\\Dell 5480\\AppData\\Local\\Temp\\ipykernel_18824\\3668355532.py:1: DeprecationWarning: \n",
      "        on_event is deprecated, use lifespan event handlers instead.\n",
      "\n",
      "        Read more about it in the\n",
      "        [FastAPI docs for Lifespan Events](https://fastapi.tiangolo.com/advanced/events/).\n",
      "        \n",
      "  @app.on_event(\"startup\")\n"
     ]
    }
   ],
   "source": [
    "@app.on_event(\"startup\")\n",
    "async def startup_event():\n",
    "    \"\"\"Initialize components on startup\"\"\"\n",
    "    try:\n",
    "        print(\"Initializing chatbot components...\")\n",
    "        get_qa_chain()\n",
    "        print(\"ERP Document Chatbot API is ready!\")\n",
    "    except Exception as e:\n",
    "        print(f\"Error during initialization: {str(e)}\")\n",
    "        # We'll continue without failing, and initialize when needed"
   ]
  },
  {
   "cell_type": "markdown",
   "metadata": {},
   "source": [
    "## Health Check Endpoint"
   ]
  },
  {
   "cell_type": "code",
   "execution_count": 12,
   "metadata": {},
   "outputs": [],
   "source": [
    "@app.get(\"/health\")\n",
    "async def health_check():\n",
    "    return {\"status\": \"healthy\", \"message\": \"ERP Document Chatbot API is running\"}\n"
   ]
  },
  {
   "cell_type": "markdown",
   "metadata": {},
   "source": [
    "## Main endpoint for chatbot"
   ]
  },
  {
   "cell_type": "code",
   "execution_count": 13,
   "metadata": {},
   "outputs": [],
   "source": [
    "@app.post(\"/chat\", response_model=ChatbotResponse)\n",
    "async def chat(request: ChatbotRequest):\n",
    "    try:\n",
    "        start_time = time.time()\n",
    "        \n",
    "        # Make sure QA chain is initialized\n",
    "        qa = get_qa_chain()\n",
    "        \n",
    "        # Process the query\n",
    "        response = qa.invoke({\"query\": request.query})\n",
    "        answer = response.get(\"result\", \"No answer found\")\n",
    "        \n",
    "        # Get sources\n",
    "        sources = []\n",
    "        if \"source_documents\" in response:\n",
    "            for doc in response[\"source_documents\"][:3]:  # Top 3 sources\n",
    "                source = doc.metadata.get(\"source\", \"Unknown source\")\n",
    "                sources.append(os.path.basename(source))\n",
    "        \n",
    "        # Calculate response time\n",
    "        response_time = time.time() - start_time\n",
    "        \n",
    "        return ChatbotResponse(\n",
    "            answer=answer,\n",
    "            sources=sources,\n",
    "            response_time=response_time\n",
    "        )\n",
    "    except Exception as e:\n",
    "        raise HTTPException(status_code=500, detail=f\"Error processing query: {str(e)}\")\n"
   ]
  },
  {
   "cell_type": "markdown",
   "metadata": {},
   "source": [
    "## Check for available Models"
   ]
  },
  {
   "cell_type": "code",
   "execution_count": 14,
   "metadata": {},
   "outputs": [],
   "source": [
    "@app.get(\"/models\")\n",
    "async def list_models():\n",
    "    try:\n",
    "        # Get API key from environment variables\n",
    "        google_api_key = os.getenv(\"GOOGLE_API_KEY\")\n",
    "        if not google_api_key:\n",
    "            raise ValueError(\"GOOGLE_API_KEY not found in environment variables\")\n",
    "        \n",
    "        # Configure the Gemini API\n",
    "        genai.configure(api_key=google_api_key)\n",
    "        \n",
    "        # List available models\n",
    "        models = []\n",
    "        for model in genai.list_models():\n",
    "            models.append({\n",
    "                \"name\": model.name,\n",
    "                \"supported_methods\": model.supported_generation_methods\n",
    "            })\n",
    "        \n",
    "        return {\"models\": models}\n",
    "    except Exception as e:\n",
    "        raise HTTPException(status_code=500, detail=f\"Error listing models: {str(e)}\")\n"
   ]
  },
  {
   "cell_type": "markdown",
   "metadata": {},
   "source": [
    "## Main"
   ]
  },
  {
   "cell_type": "code",
   "execution_count": null,
   "metadata": {},
   "outputs": [
    {
     "name": "stderr",
     "output_type": "stream",
     "text": [
      "INFO:     Will watch for changes in these directories: ['c:\\\\Users\\\\Dell 5480\\\\Desktop\\\\ERPNext chatbot']\n",
      "INFO:     Uvicorn running on http://0.0.0.0:8000 (Press CTRL+C to quit)\n",
      "INFO:     Started reloader process [18824] using StatReload\n",
      "WARNING:  StatReload detected changes in 'fastAPI.py'. Reloading...\n"
     ]
    },
    {
     "name": "stdout",
     "output_type": "stream",
     "text": [
      " "
     ]
    },
    {
     "name": "stderr",
     "output_type": "stream",
     "text": [
      "WARNING:  StatReload detected changes in 'fastAPI.py'. Reloading...\n"
     ]
    },
    {
     "name": "stdout",
     "output_type": "stream",
     "text": [
      " "
     ]
    },
    {
     "name": "stderr",
     "output_type": "stream",
     "text": [
      "WARNING:  StatReload detected changes in 'fastAPI.py'. Reloading...\n"
     ]
    },
    {
     "name": "stdout",
     "output_type": "stream",
     "text": [
      " "
     ]
    }
   ],
   "source": [
    "if __name__ == \"__main__\":\n",
    "    uvicorn.run(\"fastAPI:app\", host=\"0.0.0.0\", port=8000, reload=True)"
   ]
  }
 ],
 "metadata": {
  "kernelspec": {
   "display_name": "venv",
   "language": "python",
   "name": "python3"
  },
  "language_info": {
   "codemirror_mode": {
    "name": "ipython",
    "version": 3
   },
   "file_extension": ".py",
   "mimetype": "text/x-python",
   "name": "python",
   "nbconvert_exporter": "python",
   "pygments_lexer": "ipython3",
   "version": "3.13.2"
  }
 },
 "nbformat": 4,
 "nbformat_minor": 2
}
